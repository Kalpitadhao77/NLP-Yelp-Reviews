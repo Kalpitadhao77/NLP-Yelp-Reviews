{
 "cells": [
  {
   "cell_type": "code",
   "execution_count": 81,
   "id": "34f0c0b4",
   "metadata": {},
   "outputs": [],
   "source": [
    "import pandas as pd\n",
    "import numpy as np\n",
    "import requests\n",
    "from bs4 import BeautifulSoup"
   ]
  },
  {
   "cell_type": "code",
   "execution_count": 82,
   "id": "9eddbeaf",
   "metadata": {},
   "outputs": [],
   "source": [
    "headers = {\n",
    "    'User-Agent': 'Mozilla/5.0 (Macintosh; Intel Mac OS X 10.12; rv:55.0) Gecko/20100101 Firefox/55.0',\n",
    "}"
   ]
  },
  {
   "cell_type": "code",
   "execution_count": 83,
   "id": "5516969c",
   "metadata": {},
   "outputs": [],
   "source": [
    "# Let's get a few links to some news articles"
   ]
  },
  {
   "cell_type": "code",
   "execution_count": 84,
   "id": "fd068e10",
   "metadata": {},
   "outputs": [],
   "source": [
    "i=\"https://www.thehindu.com/incoming/blood-cancers-are-curable-in-majority-of-cases/article66290027.ece\"\n",
    "i2=\"https://www.thehindu.com/incoming/man-steals-police-patrol-car-in-suryapet-arrested/article66267785.ece\""
   ]
  },
  {
   "cell_type": "code",
   "execution_count": 85,
   "id": "5ff9c92e",
   "metadata": {},
   "outputs": [],
   "source": [
    "#Lets extract the text using API call with requests and remove the unnecessary characters using beautifulsoap"
   ]
  },
  {
   "cell_type": "code",
   "execution_count": 86,
   "id": "77f07a8c",
   "metadata": {},
   "outputs": [
    {
     "name": "stdout",
     "output_type": "stream",
     "text": [
      "https://www.thehindu.com/incoming/blood-cancers-are-curable-in-majority-of-cases/article66290027.ece\n",
      "https://www.thehindu.com/incoming/man-steals-police-patrol-car-in-suryapet-arrested/article66267785.ece\n"
     ]
    }
   ],
   "source": [
    "page = requests.get(i,headers=headers)\n",
    "soup=BeautifulSoup(page.content,'html.parser')\n",
    "cont=soup.findAll(attrs={'class':'articlebodycontent col-xl-9 col-lg-12 col-md-12 col-sm-12 col-12'})\n",
    "print(i)\n",
    "page1 = requests.get(i2,headers=headers)\n",
    "soup1=BeautifulSoup(page1.content,'html.parser')\n",
    "cont1=soup1.findAll(attrs={'class':'articlebodycontent col-xl-9 col-lg-12 col-md-12 col-sm-12 col-12'})\n",
    "print(i2)"
   ]
  },
  {
   "cell_type": "code",
   "execution_count": 87,
   "id": "e20e506b",
   "metadata": {},
   "outputs": [],
   "source": [
    "sentence=cont[0].text.replace('\\n',\" \")\n",
    "sentence1=cont1[0].text.replace('\\n',\" \")"
   ]
  },
  {
   "cell_type": "code",
   "execution_count": 88,
   "id": "fdaf6137",
   "metadata": {},
   "outputs": [
    {
     "data": {
      "text/plain": [
       "'Blood cancers are not the end of the road and are curable in majority of the cases, most of the patients can expect completely normal life after advanced treatments such as bone marrow transplant, said Ganesh Jaishetwar, senior haematologist, Yashoda Hospital Hyderabad, on Wednesday while addressing a press conference in Nizamabad.“The common misbelief that blood cancers are death sentences and patients will be bed ridden for the rest of their lives is incorrect. All patients with successful treatments are leading normal lives. The hemato-oncology field has advanced greatly in recent years and most of the advanced treatments are available now,” he said.\\xa0Bone marrow transplants in India are gradually increasing, until a few years back only 500 transplants were done in a year. Today more than 300 transplants are being done in India. However, only 5% of the patients with blood diseases are able to get this treatment and the issue needs to be addressed, added Dr. Ganesh. COMMents  SHARE  Copy link  Email  Facebook  Twitter  Telegram  LinkedIn  WhatsApp  Reddit '"
      ]
     },
     "execution_count": 88,
     "metadata": {},
     "output_type": "execute_result"
    }
   ],
   "source": [
    "sentence"
   ]
  },
  {
   "cell_type": "code",
   "execution_count": 89,
   "id": "d727a8e6",
   "metadata": {},
   "outputs": [
    {
     "data": {
      "text/plain": [
       "'An unidentified man allegedly stole a police patrol car parked outside the Suryapet bus stand and fled the spot. The vehicle was later found abandoned in Kodad town. The thief was later arrested and the police have registered a case against him.The incident occurred on Wednesday evening when the police personnel from Suryapet Town Police Station were conducting a routine vehicle check on the road. They had forgotten the key in the car. Taking advantage of the situation, the accused sneaked into the Toyota Innova patrol car and fled. The police were in shock when they could not see their vehicle at the parked spot. A police team then started their investigation by checking all the CCTV cameras in the surrounding area and found it lying abandoned near a wine shop in Kodad on Thursday.The police found that the accused had to abandon the car as it ran out of fuel, not knowing what to do, he left the car and ran away. COMMents  SHARE  Copy link  Email  Facebook  Twitter  Telegram  LinkedIn  WhatsApp  Reddit '"
      ]
     },
     "execution_count": 89,
     "metadata": {},
     "output_type": "execute_result"
    }
   ],
   "source": [
    "sentence1"
   ]
  },
  {
   "cell_type": "code",
   "execution_count": 90,
   "id": "492f9480",
   "metadata": {},
   "outputs": [
    {
     "name": "stdout",
     "output_type": "stream",
     "text": [
      "1073\n",
      "1018\n"
     ]
    }
   ],
   "source": [
    "print(len(sentence))\n",
    "print(len(sentence1))"
   ]
  },
  {
   "cell_type": "code",
   "execution_count": 91,
   "id": "dc9d4030",
   "metadata": {},
   "outputs": [],
   "source": [
    "import nltk\n",
    "from nltk.tokenize import word_tokenize, RegexpTokenizer\n",
    "from nltk.sentiment.vader import SentimentIntensityAnalyzer\n",
    "from vaderSentiment.vaderSentiment import SentimentIntensityAnalyzer "
   ]
  },
  {
   "cell_type": "code",
   "execution_count": 92,
   "id": "a451fbd2",
   "metadata": {},
   "outputs": [],
   "source": [
    "#Now let's use sentiment analyzer on the cleaned text"
   ]
  },
  {
   "cell_type": "code",
   "execution_count": 93,
   "id": "d018b42b",
   "metadata": {},
   "outputs": [
    {
     "name": "stdout",
     "output_type": "stream",
     "text": [
      "Positive news\n"
     ]
    }
   ],
   "source": [
    "sentiment = SentimentIntensityAnalyzer()\n",
    "sent_1 = sentiment.polarity_scores(sentence)\n",
    "sent_2 = sentiment.polarity_scores(sentence1)\n",
    "if sent_1['neg']>sent_1['pos']:\n",
    "    print(\"Negative News\")\n",
    "else:\n",
    "    print(\"Positive news\")"
   ]
  },
  {
   "cell_type": "code",
   "execution_count": 94,
   "id": "a27598e3",
   "metadata": {},
   "outputs": [],
   "source": [
    "#This is accurate prediction as the article gave hope to cancer patients"
   ]
  },
  {
   "cell_type": "code",
   "execution_count": 95,
   "id": "9804aa1b",
   "metadata": {},
   "outputs": [
    {
     "name": "stdout",
     "output_type": "stream",
     "text": [
      "Negative News\n"
     ]
    }
   ],
   "source": [
    "if sent_2['neg']>sent_2['pos']:\n",
    "    print(\"Negative News\")\n",
    "else:\n",
    "    print(\"Positive news\")"
   ]
  },
  {
   "cell_type": "code",
   "execution_count": 96,
   "id": "2c57dbdf",
   "metadata": {},
   "outputs": [],
   "source": [
    "#This is accurate as well as this article was regarding robbery"
   ]
  },
  {
   "cell_type": "code",
   "execution_count": null,
   "id": "3b6ef6c9",
   "metadata": {},
   "outputs": [],
   "source": []
  }
 ],
 "metadata": {
  "kernelspec": {
   "display_name": "Python 3 (ipykernel)",
   "language": "python",
   "name": "python3"
  },
  "language_info": {
   "codemirror_mode": {
    "name": "ipython",
    "version": 3
   },
   "file_extension": ".py",
   "mimetype": "text/x-python",
   "name": "python",
   "nbconvert_exporter": "python",
   "pygments_lexer": "ipython3",
   "version": "3.8.12"
  }
 },
 "nbformat": 4,
 "nbformat_minor": 5
}
